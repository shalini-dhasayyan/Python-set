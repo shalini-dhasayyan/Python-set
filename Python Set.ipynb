{
 "cells": [
  {
   "cell_type": "markdown",
   "id": "edb7e81c",
   "metadata": {},
   "source": [
    "# Set"
   ]
  },
  {
   "cell_type": "markdown",
   "id": "db1d963c",
   "metadata": {},
   "source": [
    "Access the items in a set & \n",
    "add,remove,join items to a set"
   ]
  },
  {
   "cell_type": "code",
   "execution_count": 8,
   "id": "0078c508",
   "metadata": {},
   "outputs": [
    {
     "name": "stdout",
     "output_type": "stream",
     "text": [
      "True\n",
      "P_praki\n",
      "39\n",
      "rakah\n",
      "42\n",
      "salaniya\n"
     ]
    }
   ],
   "source": [
    "names={'salaniya',True,39,'rakah',42,'P_praki'}\n",
    "for N in names:\n",
    "    print(N)\n"
   ]
  },
  {
   "cell_type": "markdown",
   "id": "2993d172",
   "metadata": {},
   "source": [
    "Add"
   ]
  },
  {
   "cell_type": "code",
   "execution_count": 4,
   "id": "8db28725",
   "metadata": {},
   "outputs": [
    {
     "name": "stdout",
     "output_type": "stream",
     "text": [
      "{'sunny', True, 'salaniya', 39}\n"
     ]
    }
   ],
   "source": [
    "names={'salaniya',True,39}\n",
    "names.add('sunny')\n",
    "print(names)\n"
   ]
  },
  {
   "cell_type": "code",
   "execution_count": 6,
   "id": "b02f0034",
   "metadata": {},
   "outputs": [
    {
     "name": "stdout",
     "output_type": "stream",
     "text": [
      "{'sunny', True, 'salaniya', 39}\n"
     ]
    }
   ],
   "source": [
    "names1={'salaniya',True,39}\n",
    "names2={'laniya',True,42}\n",
    "names1.update(names2)\n",
    "print(names)\n",
    "\n"
   ]
  },
  {
   "cell_type": "markdown",
   "id": "06cf4932",
   "metadata": {},
   "source": [
    "Remove"
   ]
  },
  {
   "cell_type": "code",
   "execution_count": 12,
   "id": "9eed2389",
   "metadata": {},
   "outputs": [
    {
     "name": "stdout",
     "output_type": "stream",
     "text": [
      "{'P_praki', 39, 'rakah', 42, 'salaniya'}\n"
     ]
    }
   ],
   "source": [
    "names={'salaniya',True,39,'rakah',42,'P_praki'}\n",
    "names.remove(True)\n",
    "print(names)"
   ]
  },
  {
   "cell_type": "code",
   "execution_count": 13,
   "id": "6ccdbcfe",
   "metadata": {},
   "outputs": [
    {
     "name": "stdout",
     "output_type": "stream",
     "text": [
      "{'P_praki', 39, 'rakah', 42, 'salaniya'}\n"
     ]
    }
   ],
   "source": [
    "names={'salaniya',True,39,'rakah',42,'P_praki'}\n",
    "names.remove(True)\n",
    "print(names)"
   ]
  },
  {
   "cell_type": "code",
   "execution_count": 17,
   "id": "ffd28188",
   "metadata": {},
   "outputs": [
    {
     "name": "stdout",
     "output_type": "stream",
     "text": [
      "True\n",
      "{'P_praki', 39, 'rakah', 42, 'salaniya'}\n"
     ]
    }
   ],
   "source": [
    "names={'salaniya',True,39,'rakah',42,'P_praki'}\n",
    "Name=names.pop()\n",
    "print(Name)\n",
    "print(names)"
   ]
  },
  {
   "cell_type": "code",
   "execution_count": 21,
   "id": "d5c56188",
   "metadata": {},
   "outputs": [
    {
     "name": "stdout",
     "output_type": "stream",
     "text": [
      "set()\n"
     ]
    }
   ],
   "source": [
    "names={'salaniya',True,39,'rakah',42,'P_praki'}\n",
    "names.clear()\n",
    "print(names)"
   ]
  },
  {
   "cell_type": "code",
   "execution_count": null,
   "id": "aea73ef6",
   "metadata": {},
   "outputs": [],
   "source": [
    "name={'salaniya',True,39,'rakah',42,'P_praki'}\n",
    "del name\n",
    "print(name)#set no longer exist this cause error"
   ]
  },
  {
   "cell_type": "markdown",
   "id": "46244563",
   "metadata": {},
   "source": [
    "for loop"
   ]
  },
  {
   "cell_type": "code",
   "execution_count": 27,
   "id": "2f0a1574",
   "metadata": {},
   "outputs": [
    {
     "name": "stdout",
     "output_type": "stream",
     "text": [
      "True\n",
      "P_praki\n",
      "39\n",
      "rakah\n",
      "42\n",
      "salaniya\n"
     ]
    }
   ],
   "source": [
    "names={'salaniya',True,39,'rakah',42,'P_praki'}\n",
    "for N in names:\n",
    "    print(N)"
   ]
  },
  {
   "cell_type": "markdown",
   "id": "63dbc135",
   "metadata": {},
   "source": [
    "Join & union"
   ]
  },
  {
   "cell_type": "code",
   "execution_count": 29,
   "id": "4d6aeec7",
   "metadata": {},
   "outputs": [
    {
     "name": "stdout",
     "output_type": "stream",
     "text": [
      "{True, 'P_praki', 39, 'cramy', 'rakah', 42, 'salaniya', 'paor', 56, 'vadet'}\n"
     ]
    }
   ],
   "source": [
    "names1={'salaniya',True,39,'rakah',42,'P_praki'}\n",
    "names2={'vadet',56,'cramy','paor',39}\n",
    "\n",
    "names3=names1.union(names2)\n",
    "print(names3)"
   ]
  },
  {
   "cell_type": "code",
   "execution_count": 30,
   "id": "6354e0bc",
   "metadata": {
    "scrolled": true
   },
   "outputs": [
    {
     "name": "stdout",
     "output_type": "stream",
     "text": [
      "{True, 'P_praki', 39, 'cramy', 'rakah', 42, 'salaniya', 'paor', 56, 'vadet'}\n"
     ]
    }
   ],
   "source": [
    "names1={'salaniya',True,39,'rakah',42,'P_praki'}\n",
    "names2={'vadet',56,'cramy','paor',39}\n",
    "\n",
    "names1.update(names2)\n",
    "print(names3)"
   ]
  },
  {
   "cell_type": "code",
   "execution_count": null,
   "id": "741d7ef4",
   "metadata": {},
   "outputs": [],
   "source": []
  }
 ],
 "metadata": {
  "kernelspec": {
   "display_name": "Python 3 (ipykernel)",
   "language": "python",
   "name": "python3"
  },
  "language_info": {
   "codemirror_mode": {
    "name": "ipython",
    "version": 3
   },
   "file_extension": ".py",
   "mimetype": "text/x-python",
   "name": "python",
   "nbconvert_exporter": "python",
   "pygments_lexer": "ipython3",
   "version": "3.10.9"
  }
 },
 "nbformat": 4,
 "nbformat_minor": 5
}
